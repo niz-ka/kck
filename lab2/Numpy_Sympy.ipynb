{
 "cells": [
  {
   "cell_type": "markdown",
   "id": "fb573de6",
   "metadata": {},
   "source": [
    "# Laboratorium - Sympy oraz Numpy"
   ]
  },
  {
   "cell_type": "code",
   "execution_count": 1,
   "id": "344ffac9",
   "metadata": {},
   "outputs": [],
   "source": [
    "%matplotlib inline\n",
    "import numpy as np\n",
    "import matplotlib.pyplot as plt\n",
    "import sympy as sym\n",
    "from sympy.interactive import printing\n",
    "printing.init_printing(use_latex=True)\n",
    "x,y,z = sym.symbols(\"x y z\")"
   ]
  },
  {
   "cell_type": "markdown",
   "id": "8dc4aa32",
   "metadata": {},
   "source": [
    "## 1. Sympy\n",
    "### 1.1. Dany jest wielomian... \n",
    "Dany jest wielomian $ -x^{3}+3x^{2}+10x-24 $. Wyrysuj wykres tego wielomianu (od −5 do\n",
    "5 z krokiem 0.1) i określ punkty przecięcia z osią OX (pierwiastki wielomianu). Oblicz te\n",
    "pierwiastki, wykorzystując _sympy_. "
   ]
  },
  {
   "cell_type": "code",
   "execution_count": 2,
   "id": "192feb51",
   "metadata": {},
   "outputs": [
    {
     "name": "stdout",
     "output_type": "stream",
     "text": [
      "Pierwiastki wielomianu: [-3, 2, 4]\n"
     ]
    },
    {
     "data": {
      "image/png": "[encoded data removed]",
      "text/plain": [
       "<Figure size 432x288 with 1 Axes>"
      ]
     },
     "metadata": {
      "needs_background": "light"
     },
     "output_type": "display_data"
    }
   ],
   "source": [
    "expr = -x**3+3*x**2+10*x-24\n",
    "x_values = np.arange(-5, 5, 0.1)\n",
    "y_values = [expr.evalf(subs={x:x_value}) for x_value in x_values]\n",
    "roots = sym.solve(expr)\n",
    "    \n",
    "fig, ax = plt.subplots()\n",
    "ax.plot(x_values, y_values)\n",
    "ax.set_xlim(-5,5)\n",
    "ax.set_xticks(np.arange(-5,5,1))\n",
    "ax.scatter(roots, [0 for i in roots])\n",
    "ax.grid()\n",
    "    \n",
    "print(\"Pierwiastki wielomianu:\", roots)"
   ]
  },
  {
   "cell_type": "markdown",
   "id": "991e224e",
   "metadata": {},
   "source": [
    "### 1.2. Rozwiąż układ równań \n",
    "Rozwiąż układ równań:\n",
    "$$\n",
    "    \\begin{align*} \n",
    "    x^{2}+3y &=10 \\\\ \n",
    "    4x-y^{2} &= -2\n",
    "    \\end{align*} \n",
    "$$"
   ]
  },
  {
   "cell_type": "code",
   "execution_count": 3,
   "id": "2a5c94dd",
   "metadata": {},
   "outputs": [],
   "source": [
    "eq1 = sym.Eq(x**2+3*y, 10)\n",
    "eq2 = sym.Eq(4*x-y**2, -2)\n",
    "solutions = sym.solve([eq1, eq2])"
   ]
  },
  {
   "cell_type": "markdown",
   "id": "2691095f",
   "metadata": {},
   "source": [
    "### 1.3. Ile rozwiązań ma ten układ równań? "
   ]
  },
  {
   "cell_type": "code",
   "execution_count": 4,
   "id": "f05b3fd3",
   "metadata": {},
   "outputs": [
    {
     "name": "stdout",
     "output_type": "stream",
     "text": [
      "Liczba rozwiązań: 4\n"
     ]
    }
   ],
   "source": [
    "print(\"Liczba rozwiązań:\", len(solutions))"
   ]
  },
  {
   "cell_type": "markdown",
   "id": "c0142f9c",
   "metadata": {},
   "source": [
    "### 1.4. Wypisz rozwiązania także w postaci numerycznej"
   ]
  },
  {
   "cell_type": "code",
   "execution_count": 5,
   "id": "1d7e199f",
   "metadata": {},
   "outputs": [
    {
     "name": "stdout",
     "output_type": "stream",
     "text": [
      "[1.35338582359163, 2.72278227083374]\n",
      "[-3.12273673247333 - 1.62282840726831*I, 0.960695779699584 - 3.37844391858529*I]\n",
      "[-3.12273673247333 + 1.62282840726831*I, 0.960695779699584 + 3.37844391858529*I]\n",
      "[4.89208764135504, -4.64417383023290]\n"
     ]
    }
   ],
   "source": [
    "numerical_solutions = [[v.evalf() for k, v in s.items()] for s in solutions]\n",
    "for i in numerical_solutions: \n",
    "    print(i)"
   ]
  },
  {
   "cell_type": "markdown",
   "id": "87db9516",
   "metadata": {},
   "source": [
    "### 1.5. Wyznacz pochodną funkcji\n",
    "Wyznacz pochodną funkcji: \n",
    "$$ \\frac{\\sin(\\log_{2}(x)) \\cdot \\cos(x^{2})}{x}  $$"
   ]
  },
  {
   "cell_type": "code",
   "execution_count": 6,
   "id": "7b477fc3",
   "metadata": {},
   "outputs": [
    {
     "data": {
      "image/png": "[encoded data removed]",
      "text/latex": [
       "$\\displaystyle - 2 \\sin{\\left(x^{2} \\right)} \\sin{\\left(\\frac{\\log{\\left(x \\right)}}{\\log{\\left(2 \\right)}} \\right)} - \\frac{\\sin{\\left(\\frac{\\log{\\left(x \\right)}}{\\log{\\left(2 \\right)}} \\right)} \\cos{\\left(x^{2} \\right)}}{x^{2}} + \\frac{\\cos{\\left(x^{2} \\right)} \\cos{\\left(\\frac{\\log{\\left(x \\right)}}{\\log{\\left(2 \\right)}} \\right)}}{x^{2} \\log{\\left(2 \\right)}}$"
      ],
      "text/plain": [
       "                             ⎛log(x)⎞    ⎛ 2⎞      ⎛ 2⎞    ⎛log(x)⎞\n",
       "                          sin⎜──────⎟⋅cos⎝x ⎠   cos⎝x ⎠⋅cos⎜──────⎟\n",
       "       ⎛ 2⎞    ⎛log(x)⎞      ⎝log(2)⎠                      ⎝log(2)⎠\n",
       "- 2⋅sin⎝x ⎠⋅sin⎜──────⎟ - ─────────────────── + ───────────────────\n",
       "               ⎝log(2)⎠             2                 2            \n",
       "                                   x                 x ⋅log(2)     "
      ]
     },
     "execution_count": 6,
     "metadata": {},
     "output_type": "execute_result"
    }
   ],
   "source": [
    "expr = sym.sin(sym.log(x, 2))*sym.cos(x**2)/x\n",
    "sym.diff(expr)"
   ]
  },
  {
   "cell_type": "markdown",
   "id": "c22effb7",
   "metadata": {},
   "source": [
    "### 1.6. Przekształć notatnik do strony html\n",
    "Przekształć notatnik do strony html używając `ipython nbconvert`"
   ]
  },
  {
   "cell_type": "code",
   "execution_count": 7,
   "id": "0c4076f3",
   "metadata": {},
   "outputs": [
    {
     "name": "stderr",
     "output_type": "stream",
     "text": [
      "[NbConvertApp] Converting notebook Numpy_Sympy.ipynb to html\n",
      "[NbConvertApp] Writing 651315 bytes to Numpy_Sympy.html\n"
     ]
    },
    {
     "data": {
      "image/png": "[encoded data removed]",
      "text/latex": [
       "$\\displaystyle 0$"
      ],
      "text/plain": [
       "0"
      ]
     },
     "execution_count": 7,
     "metadata": {},
     "output_type": "execute_result"
    }
   ],
   "source": [
    "import os\n",
    "cmd = \"jupyter nbconvert --to html Numpy_Sympy.ipynb\"\n",
    "os.system(cmd)"
   ]
  },
  {
   "cell_type": "markdown",
   "id": "c22c1c82",
   "metadata": {},
   "source": [
    "## 2. Numpy\n",
    "### 2.1. Utwórz macierz 2D\n",
    "Utwórz macierz 2D:\n",
    "$$\n",
    "    \\begin{bmatrix}\n",
    "    1 & 3 & 1 & 2 \\\\\n",
    "    1 & 2 & 5 & 8 \\\\\n",
    "    3 & 1 & 2 & 9 \\\\\n",
    "    5 & 4 & 2 & 1 \\\\\n",
    "    \\end{bmatrix}\n",
    "$$"
   ]
  },
  {
   "cell_type": "code",
   "execution_count": 8,
   "id": "9a547d2b",
   "metadata": {},
   "outputs": [
    {
     "data": {
      "text/plain": [
       "array([[1, 3, 1, 2],\n",
       "       [1, 2, 5, 8],\n",
       "       [3, 1, 2, 9],\n",
       "       [5, 4, 2, 1]])"
      ]
     },
     "execution_count": 8,
     "metadata": {},
     "output_type": "execute_result"
    }
   ],
   "source": [
    "M = np.array([[1,3,1,2],[1,2,5,8],[3,1,2,9],[5,4,2,1]])\n",
    "M"
   ]
  },
  {
   "cell_type": "markdown",
   "id": "1af1e16d",
   "metadata": {},
   "source": [
    "### 2.2. Usuń z utworzonej macierzy pierwszy i ostatni wiersz oraz ostatnią kolumnę."
   ]
  },
  {
   "cell_type": "code",
   "execution_count": 9,
   "id": "249205ed",
   "metadata": {},
   "outputs": [
    {
     "data": {
      "text/plain": [
       "array([[1, 2, 5],\n",
       "       [3, 1, 2]])"
      ]
     },
     "execution_count": 9,
     "metadata": {},
     "output_type": "execute_result"
    }
   ],
   "source": [
    "M1 = M[1:-1,:-1]\n",
    "M1"
   ]
  },
  {
   "cell_type": "markdown",
   "id": "104ac850",
   "metadata": {},
   "source": [
    "### 2.3. Utwórz macierz 2D\n",
    "Utwórz macierz 2D:\n",
    "$$\n",
    "    \\begin{bmatrix}\n",
    "    2 & 3 & 1 \\\\\n",
    "    5 & 1 & 3 \\\\\n",
    "    \\end{bmatrix} \n",
    "$$"
   ]
  },
  {
   "cell_type": "code",
   "execution_count": 10,
   "id": "2eec16f6",
   "metadata": {},
   "outputs": [
    {
     "data": {
      "text/plain": [
       "array([[2, 3, 1],\n",
       "       [5, 1, 3]])"
      ]
     },
     "execution_count": 10,
     "metadata": {},
     "output_type": "execute_result"
    }
   ],
   "source": [
    "M = np.array([[2,3,1],[5,1,3]])\n",
    "M"
   ]
  },
  {
   "cell_type": "markdown",
   "id": "73e30308",
   "metadata": {},
   "source": [
    "### 2.4. Dokonaj transpozycji powyższej macierzy"
   ]
  },
  {
   "cell_type": "code",
   "execution_count": 11,
   "id": "b35b4a62",
   "metadata": {},
   "outputs": [
    {
     "data": {
      "text/plain": [
       "array([[2, 5],\n",
       "       [3, 1],\n",
       "       [1, 3]])"
      ]
     },
     "execution_count": 11,
     "metadata": {},
     "output_type": "execute_result"
    }
   ],
   "source": [
    "M2 = M.T\n",
    "M2"
   ]
  },
  {
   "cell_type": "markdown",
   "id": "ec19500e",
   "metadata": {},
   "source": [
    "### 2.5. Oblicz iloczyn macierzy z punktu 2 i 4"
   ]
  },
  {
   "cell_type": "code",
   "execution_count": 12,
   "id": "a4eeca20",
   "metadata": {},
   "outputs": [
    {
     "data": {
      "text/plain": [
       "array([[13, 22],\n",
       "       [11, 22]])"
      ]
     },
     "execution_count": 12,
     "metadata": {},
     "output_type": "execute_result"
    }
   ],
   "source": [
    "M1.dot(M2)"
   ]
  },
  {
   "cell_type": "markdown",
   "id": "0cdbf3e9",
   "metadata": {},
   "source": [
    "### 2.6. Stwórz wykres funkcji _sin_\n",
    "Stwórz wykres funkcji _sin_ w przedziale od −π do π z krokiem co: π, 2π/10, 2π/100."
   ]
  },
  {
   "cell_type": "code",
   "execution_count": 13,
   "id": "afdb3396",
   "metadata": {},
   "outputs": [
    {
     "data": {
      "image/png": "[encoded data removed]",
      "text/plain": [
       "<Figure size 864x360 with 3 Axes>"
      ]
     },
     "metadata": {
      "needs_background": "light"
     },
     "output_type": "display_data"
    }
   ],
   "source": [
    "properties = {\n",
    "    \"color\" : (\"red\", \"green\", \"blue\"),\n",
    "    \"step\" : (np.pi, 2*np.pi/10, 2*np.pi/100),\n",
    "    \"label\" : (\"π\", \"2π/10\", \"2π/100\")\n",
    "}\n",
    "\n",
    "fig, axs = plt.subplots(1,3)\n",
    "fig.tight_layout() \n",
    "fig.set_size_inches(12, 5)\n",
    "\n",
    "for i in range(3):\n",
    "    x_values = np.arange(-np.pi, np.pi, properties[\"step\"][i])\n",
    "    y_values = np.sin(x_values)\n",
    "    axs[i].plot(x_values, y_values, color=properties[\"color\"][i], label=properties[\"label\"][i])\n",
    "    axs[i].set_xlim(-np.pi, np.pi)\n",
    "    axs[i].legend()"
   ]
  }
 ],
 "metadata": {
  "interpreter": {
   "hash": "31f2aee4e71d21fbe5cf8b01ff0e069b9275f58929596ceb00d14d90e3e16cd6"
  },
  "kernelspec": {
   "display_name": "Python 3.8.10 64-bit",
   "name": "python3"
  },
  "language_info": {
   "codemirror_mode": {
    "name": "ipython",
    "version": 3
   },
   "file_extension": ".py",
   "mimetype": "text/x-python",
   "name": "python",
   "nbconvert_exporter": "python",
   "pygments_lexer": "ipython3",
   "version": "3.8.10"
  }
 },
 "nbformat": 4,
 "nbformat_minor": 5
}
