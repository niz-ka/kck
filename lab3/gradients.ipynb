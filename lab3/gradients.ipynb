{
 "cells": [
  {
   "cell_type": "code",
   "execution_count": 65,
   "metadata": {},
   "outputs": [],
   "source": [
    "# Python 3.8.10\n",
    "import matplotlib\n",
    "import matplotlib.pyplot as plt\n",
    "from matplotlib import rc\n",
    "import numpy as np\n",
    "from matplotlib import colors\n",
    "import math\n",
    "import colorsys"
   ]
  },
  {
   "cell_type": "code",
   "execution_count": 66,
   "metadata": {},
   "outputs": [],
   "source": [
    "#konwerter: nie trzeba implementować samemu, można wykorzystać funkcję z bilbioteki\n",
    "def hsv2rgb(h, s, v):\n",
    "    return colorsys.hsv_to_rgb(h, s, v)\n",
    "\n",
    "# poniżej znajdują się funkcje modelujące kolejne gradienty z zadania.\n",
    "# v to pozycja na osi ox: v jest od 0 do 1. Zewnetrzna funkcja wywołuje te metody podając\n",
    "# różne v i oczekując trójki RGB bądź HSV reprezentującej kolor. Np. (0,0,0) w RGB to kolor czarny. \n",
    "# Należy uwikłać v w funkcję modelującą kolor. W tym celu dla kolejnych gradientów trzeba przyjąć \n",
    "# sobie jakieś punkty charakterystyczne,\n",
    "# np. widzimy, że po lewej stronie (dla v = 0) powinien być kolor zielony a w środku niebieski (dla v = 0.5),\n",
    "# a wszystkie punkty pomiędzy należy interpolować liniowo (proporcjonalnie). \n",
    "\n",
    "# Return mixed color for certain v\n",
    "# Example - assume that len(colors) = 5 and v = 0.28\n",
    "def getColor(colors, v):\n",
    "    outputColor = []\n",
    "    \n",
    "    point = 1.0 / (len(colors) - 1) # point = 0.25\n",
    "    number = math.floor(v / point) # number = 1\n",
    "    if(number >= len(colors) - 1): number -= 1 # correction for v = 1.0 (array index exceeded in for loop)\n",
    "    v_p = point * number # v_p = 0.25\n",
    "    v_k = v_p + point # v_k = 0.5\n",
    "    \n",
    "    # linear interpolation\n",
    "    for a,b in zip(colors[number],colors[number+1]):\n",
    "        outputColor.append(((b-a)/(v_k-v_p))*v+((a*v_k - b*v_p)/(v_k-v_p)))\n",
    "    \n",
    "    return tuple(outputColor)\n",
    "\n",
    "def gradient_rgb_bw(v):\n",
    "    return getColor( ( (0,0,0) , (1,1,1) ), v )\n",
    "\n",
    "\n",
    "def gradient_rgb_gbr(v):\n",
    "    return getColor( ( (0,1,0) , (0,0,1) , (1,0,0) ), v )\n",
    "\n",
    "\n",
    "def gradient_rgb_gbr_full(v):\n",
    "    return getColor( ( (0,1,0) , (0,1,1) , (0,0,1) , (1,0,1) , (1,0,0) ), v )\n",
    "\n",
    "\n",
    "def gradient_rgb_wb_custom(v):\n",
    "    return getColor( ( (1,1,1) , (1,0,1) , (0,0,1) , (0,1,1) , (0,1,0) , (1,1,0) , (1,0,0) , (0,0,0) ), v )\n",
    "\n",
    "\n",
    "def gradient_hsv_bw(v):\n",
    "    hsv = getColor(( (1,0,0), (0,0,1)) , v)\n",
    "    return hsv2rgb(*hsv)\n",
    "\n",
    "\n",
    "def gradient_hsv_gbr(v):\n",
    "    hsv = getColor(( (1/3,1,1) , (2/3,1,1) , (1,1,1)) , v)\n",
    "    return hsv2rgb(*hsv)\n",
    "\n",
    "def gradient_hsv_unknown(v):\n",
    "    hsv = getColor(( (1/3,0.502,1) , (0,0.502,1) ) , v)\n",
    "    return hsv2rgb(*hsv)\n",
    "\n",
    "\n",
    "def gradient_hsv_custom(v):\n",
    "    hsv = getColor(( (0,1,1) , (1/3,1,1) , (2/3,0.5,1) , (1,0,1) ) , v)\n",
    "    return hsv2rgb(*hsv)"
   ]
  },
  {
   "cell_type": "code",
   "execution_count": 67,
   "metadata": {},
   "outputs": [],
   "source": [
    "def plot_color_gradients(gradients, names):\n",
    "    # For pretty latex fonts (commented out, because it does not work on some machines)\n",
    "    rc('text', usetex=True) \n",
    "    rc('font', family='serif', serif=['Times'], size=10)\n",
    "    rc('legend', fontsize=10)\n",
    "\n",
    "    column_width_pt = 400         # Show in latex using \\the\\linewidth\n",
    "    pt_per_inch = 72\n",
    "    size = column_width_pt / pt_per_inch\n",
    "\n",
    "    fig, axes = plt.subplots(nrows=len(gradients), sharex=True, figsize=(size, 0.75 * size))\n",
    "    fig.subplots_adjust(top=1.00, bottom=0.05, left=0.25, right=0.95)\n",
    "\n",
    "\n",
    "    for ax, gradient, name in zip(axes, gradients, names):\n",
    "        # Create image with two lines and draw gradient on it\n",
    "        img = np.zeros((2, 1024, 3))\n",
    "        for i, v in enumerate(np.linspace(0, 1, 1024)):\n",
    "            img[:, i] = gradient(v)\n",
    "\n",
    "        im = ax.imshow(img, aspect='auto')\n",
    "        im.set_extent([0, 1, 0, 1])\n",
    "        ax.yaxis.set_visible(False)\n",
    "\n",
    "        pos = list(ax.get_position().bounds)\n",
    "        x_text = pos[0] - 0.25\n",
    "        y_text = pos[1] + pos[3]/2.\n",
    "        fig.text(x_text, y_text, name, va='center', ha='left', fontsize=10)\n",
    "\n",
    "    fig.savefig('my-gradients.pdf')"
   ]
  },
  {
   "cell_type": "code",
   "execution_count": 68,
   "metadata": {},
   "outputs": [
    {
     "data": {
      "image/png": "[encoded data removed]",
      "text/plain": [
       "<Figure size 400x300 with 8 Axes>"
      ]
     },
     "metadata": {
      "needs_background": "light"
     },
     "output_type": "display_data"
    }
   ],
   "source": [
    "def toname(g):\n",
    "    return g.__name__.replace('gradient_', '').replace('_', '-').upper()\n",
    "    \n",
    "gradients = (gradient_rgb_bw, gradient_rgb_gbr, gradient_rgb_gbr_full, gradient_rgb_wb_custom,\n",
    "                 gradient_hsv_bw, gradient_hsv_gbr, gradient_hsv_unknown, gradient_hsv_custom)\n",
    "\n",
    "plot_color_gradients(gradients, [toname(g) for g in gradients])"
   ]
  }
 ],
 "metadata": {
  "interpreter": {
   "hash": "916dbcbb3f70747c44a77c7bcd40155683ae19c65e1c03b4aa3499c5328201f1"
  },
  "kernelspec": {
   "display_name": "Python 3.8.10 64-bit",
   "name": "python3"
  },
  "language_info": {
   "codemirror_mode": {
    "name": "ipython",
    "version": 3
   },
   "file_extension": ".py",
   "mimetype": "text/x-python",
   "name": "python",
   "nbconvert_exporter": "python",
   "pygments_lexer": "ipython3",
   "version": "3.8.10"
  },
  "orig_nbformat": 4
 },
 "nbformat": 4,
 "nbformat_minor": 2
}
